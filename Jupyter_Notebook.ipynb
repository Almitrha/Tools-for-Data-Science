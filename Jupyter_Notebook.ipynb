{
 "cells": [
  {
   "cell_type": "markdown",
   "metadata": {},
   "source": [
    "<center>\n",
    "    <img src=\"https://s3-api.us-geo.objectstorage.softlayer.net/cf-courses-data/CognitiveClass/Logos/organization_logo/organization_logo.png\" width=\"300\" alt=\"cognitiveclass.ai logo\"  />\n",
    "</center>\n"
   ]
  },
  {
   "cell_type": "markdown",
   "metadata": {},
   "source": [
    "#### Add your code below following the instructions given in the course\n"
   ]
  },
  {
   "cell_type": "markdown",
   "metadata": {},
   "source": [
    "<H1>My Jupyter Notebook on IBM Watson Studio<H1>"
   ]
  },
  {
   "cell_type": "markdown",
   "metadata": {},
   "source": [
    "<b>Samet  Tapar </b><br>Data Scientist"
   ]
  },
  {
   "cell_type": "markdown",
   "metadata": {},
   "source": [
    "<i>I am interested in data science because data i want to become a datascietist under the industry of Real Estate ,I want to be able help clients to make make best real Estate investments\\n\",\n",
    "    \", having huge command of Data science it will personally help me to make good business decisions. <i>"
   ]
  },
  {
   "cell_type": "code",
   "execution_count": 24,
   "metadata": {},
   "outputs": [
    {
     "name": "stdout",
     "output_type": "stream",
     "text": [
      "The value of a is 1\n"
     ]
    }
   ],
   "source": [
    "a= 0\n",
    "a= a + 1\n",
    "print(\"The value of a is\", a)\n"
   ]
  },
  {
   "cell_type": "markdown",
   "metadata": {
    "tags": []
   },
   "source": [
    "![data-science](https://verify-img-thumb.s3.amazonaws.com/Data_science.png/350px-Data_science.png)\n",
    "\n",
    "**Learn how to do data science with R. The book is grouped into the chapters below  **\n",
    "\n",
    "* [Back Cover](http://garrettgman.github.io/back)<br>\n",
    "<s> * Preface </s>\n",
    "\n",
    "### Data Modeling\n",
    "1. Science\n",
    "2. Distributions\n",
    "3. Model Fitting\n",
    "4. Model Selection\n",
    "5. Machine Learning\n",
    "6. Inference\n",
    "\n",
    "### Data Wrangling\n",
    "1. Importing Data\n",
    "2. Tidy Data\n",
    "3. [Data Tidying](http://garrettgman.github.io/tidying)\n",
    "4. Data Manipulation\n",
    "\n",
    "### Data Visualization\n",
    "The Grammar of Graphics\n",
    "Interactive Visualizations"
   ]
  },
  {
   "cell_type": "code",
   "execution_count": null,
   "metadata": {},
   "outputs": [],
   "source": []
  }
 ],
 "metadata": {
  "kernelspec": {
   "display_name": "Python",
   "language": "python",
   "name": "conda-env-python-py"
  },
  "language_info": {
   "codemirror_mode": {
    "name": "ipython",
    "version": 3
   },
   "file_extension": ".py",
   "mimetype": "text/x-python",
   "name": "python",
   "nbconvert_exporter": "python",
   "pygments_lexer": "ipython3",
   "version": "3.7.12"
  }
 },
 "nbformat": 4,
 "nbformat_minor": 4
}
